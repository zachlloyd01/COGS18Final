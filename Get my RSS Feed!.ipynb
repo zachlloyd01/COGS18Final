{
 "cells": [
  {
   "cell_type": "markdown",
   "metadata": {},
   "source": [
    "### Welcome to zachFeeds - the Ultimate RSS Parser!\n",
    "\n",
    "- zachFeeds takes in any given RSS Feed, and stores it into FireBase, allowing you to star your favorites, or just compile articles from hundreds of different feeds\n",
    "\n",
    "- zachFeeds is written in Flask, a lightweight Python webserver, with Jinja2 and HTML as the frontend markup. The reason I did not use React or Angular is that both of those require running some version of Node.js on the host machine, and this is designed to be completely platform-agnostic, without the need for Docker!\n",
    "\n",
    "- Flask was better than Django for this project because I did not need the heavy extra features of Django, and no complex routing or host-machine SQL is needed!"
   ]
  },
  {
   "cell_type": "markdown",
   "metadata": {},
   "source": [
    "### How the backend works\n",
    "\n",
    "- In order to get data, I have one continuous table in Firebase of RSS XML (XML is a markup language) links, that get iterated through every time the 'Feed' is updated!\n",
    "\n",
    "- In order to get the data from these links, I use a Python module called requests, which will return the XML of every feed. I then [PARSE DATA INSTRUCTIONS HERE]\n",
    "\n",
    "- Once it is parsed into a dict, I upload the data from each article into my Firebase DB, and refresh the frontend.\n"
   ]
  },
  {
   "cell_type": "markdown",
   "metadata": {},
   "source": [
    "### How the frontend works\n",
    "\n",
    "- The frontend is written in Jinja2, an in-markup scripting language. \n",
    "\n",
    "- The main (home) route, written in the flask routes file, just pulls data from firebase, turns it into a dict, then passes it to Jinja, where I can iterate over each object, and insert it into my HTML table for the user to see. \n",
    "\n",
    "- The update button is what tells Flask to update Firebase with new articles."
   ]
  },
  {
   "cell_type": "markdown",
   "metadata": {},
   "source": [
    "### Minimum Viable Product: \n",
    "\n",
    "- Use requests to parse XML into my dict, and post it to Firebase, then retrieve that data"
   ]
  },
  {
   "cell_type": "markdown",
   "metadata": {},
   "source": [
    "### See below for how most of the program logic works! The rest of the app is just Flask boilerplate, but this is the important bit."
   ]
  },
  {
   "cell_type": "code",
   "execution_count": 2,
   "metadata": {},
   "outputs": [],
   "source": [
    "#MVP imports\n",
    "import requests #Get/Post data to and from web servers\n",
    "import xmltodict #Parse raw XML data from RSS Feeds\n",
    "import firebase_admin\n",
    "from firebase_admin import credentials, db"
   ]
  },
  {
   "cell_type": "code",
   "execution_count": 7,
   "metadata": {},
   "outputs": [
    {
     "name": "stdout",
     "output_type": "stream",
     "text": [
      "2020-11-24T18:51:49Z\n",
      "2020-11-24T17:37:30Z\n",
      "2020-11-24T17:03:02Z\n",
      "2020-11-24T15:56:15Z\n",
      "2020-11-24T15:45:00Z\n",
      "2020-11-24T15:15:37Z\n",
      "2020-11-24T15:11:15Z\n",
      "2020-11-24T15:09:40Z\n",
      "2020-11-24T15:00:00Z\n",
      "2020-11-24T13:52:52Z\n",
      "2020-11-24T13:32:00Z\n",
      "2020-11-24T13:18:45Z\n",
      "2020-11-24T13:18:45Z\n",
      "2020-11-24T13:03:27Z\n",
      "2020-11-24T12:56:15Z\n",
      "2020-11-24T12:03:26Z\n",
      "2020-11-24T12:00:00Z\n",
      "2020-11-24T12:00:00Z\n",
      "2020-11-24T11:25:24Z\n",
      "2020-11-24T11:04:36Z\n"
     ]
    }
   ],
   "source": [
    "# Get data from RSS Feed (In this case Google Alerts feed for COVID)\n",
    "\n",
    "def getRawData(dataLink): #Get raw data\n",
    "    return requests.get(dataLink).text #Requests returns raw XML data\n",
    "\n",
    "def convertRawData(dataLink): #Convert raw XML to Dict\n",
    "    rawData = getRawData(dataLink) #Get raw XML Data\n",
    "    rawDict =  xmltodict.parse(rawData, dict_constructor=dict) #Convert to OrderedDict\n",
    "    \n",
    "    convertedDict = rawDict[\"feed\"] #Root element of RSS Feed\n",
    "    \n",
    "    return convertedDict\n",
    "\n",
    "def rawDataToDict(rawData): #Convert all the raw data into something usable\n",
    "    finalDict = {\n",
    "        \"title\": rawData[\"title\"],\n",
    "        \"entries\": []\n",
    "    }\n",
    "    \n",
    "    for article in rawData[\"entry\"]: #Entry is an array in the dict\n",
    "        print(article[\"published\"])\n",
    "#         articleDict = { #Get necessary elements from current entry\n",
    "#             \"title\": article[\"title\"][\"#text\"], \n",
    "#             \"link\": article[\"link\"][\"@href\"],\n",
    "#             \"content\": article[\"content\"]['#text']\n",
    "#         }\n",
    "        \n",
    "#         finalDict[\"entries\"].append(articleDict) #Append current entry to the data\n",
    "        \n",
    "    return finalDict\n",
    "        \n",
    "# TEST WITH GOOGLE ALERT FEED\n",
    "data = convertRawData(\"https://www.google.com/alerts/feeds/00698824683610429194/1098921106065488311\")\n",
    "\n",
    "current_data = rawDataToDict(data)"
   ]
  },
  {
   "cell_type": "code",
   "execution_count": 4,
   "metadata": {},
   "outputs": [
    {
     "data": {
      "text/plain": [
       "<firebase_admin.App at 0x1c09b342ac0>"
      ]
     },
     "execution_count": 4,
     "metadata": {},
     "output_type": "execute_result"
    }
   ],
   "source": [
    "# Put data from dict into FireBase\n",
    "cred = credentials.Certificate('firebaseKey.json') #Service Account for DB Access\n",
    "\n",
    "firebase_admin.initialize_app(cred, {\n",
    "    'databaseURL': 'https://zachfeeds-86449.firebaseio.com/'\n",
    "})\n",
    "\n",
    "# ref = db.reference('articles') #Put articles\n",
    "\n",
    "# for article in current_data[\"entries\"]: #For each article\n",
    "#     new_article_ref = ref.push({ #Post the data\n",
    "#         'title': article['title'],\n",
    "#         'link': article['link'],\n",
    "#         'content': article['content'],\n",
    "#     })\n",
    "\n",
    "\n"
   ]
  },
  {
   "cell_type": "code",
   "execution_count": 57,
   "metadata": {},
   "outputs": [
    {
     "name": "stdout",
     "output_type": "stream",
     "text": [
      "8 months after Iowa&#39;s first <b>COVID</b>-19 death, toll at 2224\n"
     ]
    }
   ],
   "source": [
    "#Get data out of firebase\n",
    "\n",
    "ref = db.reference('articles') #get articles data\n",
    "\n",
    "articles = ref.get()\n",
    "\n",
    "# print(articles)\n",
    "\n",
    "storedArticles = [] #Array of stored articles to later iterate over\n",
    "\n",
    "for article in articles: #For article in FB return\n",
    "    currentArticle = {} \n",
    "    for elem in articles[article]: #For each element of the article\n",
    "        currentArticle[elem] = articles[article][elem] #Append data to the dict\n",
    "    storedArticles.append(currentArticle) #Append the dict to the array\n",
    "    \n",
    "print(storedArticles[0]['title']) #Test data in array"
   ]
  },
  {
   "cell_type": "code",
   "execution_count": 6,
   "metadata": {},
   "outputs": [],
   "source": [
    "#Add feeds to firebase\n",
    "\n",
    "ref = db.reference('feeds') #get feeds data\n",
    "\n",
    "new_feed_ref = ref.push(\"https://www.google.com/alerts/feeds/00698824683610429194/3310492921969815257\")"
   ]
  },
  {
   "cell_type": "code",
   "execution_count": null,
   "metadata": {},
   "outputs": [],
   "source": []
  }
 ],
 "metadata": {
  "kernelspec": {
   "display_name": "Python 3",
   "language": "python",
   "name": "python3"
  },
  "language_info": {
   "codemirror_mode": {
    "name": "ipython",
    "version": 3
   },
   "file_extension": ".py",
   "mimetype": "text/x-python",
   "name": "python",
   "nbconvert_exporter": "python",
   "pygments_lexer": "ipython3",
   "version": "3.8.3"
  }
 },
 "nbformat": 4,
 "nbformat_minor": 4
}
